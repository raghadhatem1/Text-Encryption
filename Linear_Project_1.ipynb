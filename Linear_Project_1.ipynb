{
  "nbformat": 4,
  "nbformat_minor": 0,
  "metadata": {
    "colab": {
      "provenance": []
    },
    "kernelspec": {
      "name": "python3",
      "display_name": "Python 3"
    },
    "language_info": {
      "name": "python"
    }
  },
  "cells": [
    {
      "cell_type": "code",
      "execution_count": 1,
      "metadata": {
        "id": "bpXV1QsdnucC"
      },
      "outputs": [],
      "source": [
        "substitution_matrix = {  \"!\": 0 ,\"\\\"\" : 1,\"#\": 2,\"$\": 3 ,\"%\": 4,  \"&\": 5 ,\"'\" : 6,\"(\": 7,\")\": 8 ,\"*\": 9,\n",
        "            \"+\": 10, \",\": 11,\"-\": 12, \".\": 13,\"/\": 14,\n",
        "    \n",
        "            \"0\": 15 ,\"1\": 16,\"2\": 17,\"3\": 18 ,\"4\": 19,\"5\": 20, \"6\": 21 ,\"7\": 22,\"8\": 23 ,\"9\": 24,\n",
        "            \":\":25 ,\";\": 26,\"<\": 27,  \"=\": 28 ,\">\": 29,\"?\":30,  \"@\": 31 ,\n",
        "\n",
        "            \"A\": 32,\"B\": 33, \"C\": 34,\"D\": 35, \"E\": 36,\"F\": 37, \"G\": 38,\"H\": 39,\n",
        "            \"I\": 40,\"J\": 41, \"K\": 42,\"L\": 43, \"M\": 44,\"N\": 45, \"O\": 46,\"P\": 47,\n",
        "            \"Q\": 48, \"R\": 49,\"S\": 50, \"T\": 51,\"U\": 52, \"V\": 53,\"W\": 54,\"X\": 55,\n",
        "            \"Y\": 56, \"Z\": 57,\n",
        "\n",
        "            \"[\": 58, \"\\\\\": 59,\"]\": 60, \"^\": 61,\"_\": 62, \" \": 63,\n",
        "\n",
        "            \"a\": 64,\"b\": 65, \"c\": 66,\"d\": 67, \"e\": 68,\"f\": 69, \"g\": 70,\"h\": 71,\n",
        "            \"i\": 72,\"j\": 73, \"k\": 74,\"l\": 75, \"m\": 76,\"n\": 77, \"o\": 78,\"p\": 79,\n",
        "            \"q\": 80, \"r\": 81,\"s\": 82, \"t\": 83,\"u\": 84, \"v\": 85,\"w\": 86,\"x\": 87,\n",
        "            \"y\": 88, \"z\": 89,\n",
        "\n",
        "            \"{\": 90, \"|\": 91,\"}\": 92, \"~\": 93\n",
        "            }\n",
        "\n",
        "matrix=[[3,10,20],[20,9,17],[9,4,17]] ## key matrix\n",
        "RC=len(matrix) ## length of our key matrix \n",
        "messageVector = [[0] for i in range(RC)] ## creating a matrix vector initialized with 0 in all of its values this matrix is used when we change every letter in our message to a number with our substitution matrix \n",
        "cipherMatrix = [[0] for i in range(RC)]  ## creating a matrix vector initialized with 0 in all of its values this matrix is used when we are encrypting our data"
      ]
    },
    {
      "cell_type": "code",
      "source": [
        "def encrypt(messageVector): ## in this function we pass the message matrix which contains values from substitution matrix\n",
        "    for i in range(RC): ## matrix dimensions is 3 according to our key matrix \n",
        "        for j in range(1): ## matrix dimensions is 1 as when we multiply key matrix with message vector it is (3,3)*(3,1) which gives matrix (3,1) which is the cipher matrix  \n",
        "            cipherMatrix[i][j] = 0 ## cipher matrix initialized\n",
        "            for x in range(RC):  ## in this for loop we basically do the multuplication between the message vector and the key matrix then do modulos 94 due to our sub matrix having  94 value\n",
        "                cipherMatrix[i][j] += (matrix[i][x] *messageVector[x][j])\n",
        "            cipherMatrix[i][j] = cipherMatrix[i][j] % 94\n",
        "    return cipherMatrix"
      ],
      "metadata": {
        "id": "XuV6HnYO60k3"
      },
      "execution_count": 15,
      "outputs": []
    },
    {
      "cell_type": "code",
      "source": [
        "def HillCipher(message): ## in this part we basically we pass the real message as a parameter and we do for loop on our sub matrix in order to find the equivlant value for each of the letters in our real message and form our message vector\n",
        "    cipherMatrix1=[]\n",
        "    for i in range(RC):\n",
        "      for key in substitution_matrix.keys():\n",
        "        if message[i]==key:\n",
        "          messageVector[i][0] = substitution_matrix[key]\n",
        "    cipherMatrix=encrypt(messageVector) ## here me pass our message vector in the encrypt function to be encrypted and we return the cipher matrix \n",
        "    for i in range(RC):## this for loop is basically problem solving i used it because when u try  to print the returned ciphermatrix it will be ann array inside an array so i used this loop to take all the values inisde it and put it in a normal array called ciphermatrix 1 \n",
        "            cipherMatrix1.append(cipherMatrix[i][0])\n",
        "##----------------------------------------------------------------------------------------------\n",
        "\n",
        "    CipherText = []\n",
        "    for i in range(RC): ## here we  do for loop on our sub matrix in order to find the equivlant value for each of the of the numbers in our ciphermatrix and print its equivlant letters \n",
        "      for key1, value1 in substitution_matrix.items():\n",
        "          if value1 == cipherMatrix1[i]:\n",
        "              CipherText.append(key1)\n",
        "    string=\"\".join(CipherText)\n",
        "    print(\"\".join(CipherText),end=\"\")          \n",
        "    \n",
        "\n"
      ],
      "metadata": {
        "id": "kuXiB6us_THS"
      },
      "execution_count": 36,
      "outputs": []
    },
    {
      "cell_type": "code",
      "source": [
        "message1 = input(\"Enter your value: \")\n",
        "print(message1)\n",
        "n=3\n",
        "test = \"\"\n",
        "my_list = [message1[idx:idx + n] for idx in range(0, len(message1), n)]\n",
        "for i in range(len(my_list)):\n",
        " HillCipher(my_list[i])\n"
      ],
      "metadata": {
        "colab": {
          "base_uri": "https://localhost:8080/"
        },
        "id": "JuGBmEYrnf4B",
        "outputId": "e266845c-ab36-4abc-9104-e2cf04ed3638"
      },
      "execution_count": 37,
      "outputs": [
        {
          "output_type": "stream",
          "name": "stdout",
          "text": [
            "Enter your value: ABCDEF\n",
            "ABCDEF\n",
            "i,[nXW"
          ]
        }
      ]
    }
  ]
}